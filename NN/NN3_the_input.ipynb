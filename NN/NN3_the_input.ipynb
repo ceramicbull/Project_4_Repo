{
 "cells": [
  {
   "cell_type": "code",
   "execution_count": 45,
   "metadata": {},
   "outputs": [],
   "source": [
    "import tensorflow as tf\n",
    "import numpy\n",
    "import random as r"
   ]
  },
  {
   "cell_type": "code",
   "execution_count": 34,
   "metadata": {},
   "outputs": [],
   "source": [
    "#features to recreate input variables\n",
    "num_keys=['age', 'sleep_duration', 'quality_of_sleep', 'physical_activity_level',\n",
    "       'stress_level', 'heart_rate', 'daily_steps', 'systolic_blood_pressure',\n",
    "       'diastolic_blood_pressure']\n",
    "cat_keys=['career','bmi','gen']\n",
    "career_keys=['Accountant', 'Doctor', 'Engineer',\n",
    "       'Lawyer', 'Nurse', 'Other', 'Salesperson', 'Teacher']\n",
    "bmi_keys=['Normal Weight',\n",
    "       'Overweight']\n",
    "gen_keys=['Female', 'Male']"
   ]
  },
  {
   "cell_type": "code",
   "execution_count": 35,
   "metadata": {},
   "outputs": [],
   "source": [
    "#load optimized model\n",
    "model=tf.keras.models.load_model(\"sleep_model_opt.hdf5\")"
   ]
  },
  {
   "cell_type": "code",
   "execution_count": 36,
   "metadata": {},
   "outputs": [
    {
     "name": "stdout",
     "output_type": "stream",
     "text": [
      "Model: \"sequential\"\n",
      "_________________________________________________________________\n",
      " Layer (type)                Output Shape              Param #   \n",
      "=================================================================\n",
      " dense (Dense)               (None, 9)                 198       \n",
      "                                                                 \n",
      " dense_1 (Dense)             (None, 5)                 50        \n",
      "                                                                 \n",
      " dense_2 (Dense)             (None, 9)                 54        \n",
      "                                                                 \n",
      " dense_3 (Dense)             (None, 1)                 10        \n",
      "                                                                 \n",
      " dense_4 (Dense)             (None, 1)                 2         \n",
      "                                                                 \n",
      " dense_5 (Dense)             (None, 3)                 6         \n",
      "                                                                 \n",
      " dense_6 (Dense)             (None, 1)                 4         \n",
      "                                                                 \n",
      "=================================================================\n",
      "Total params: 324 (1.27 KB)\n",
      "Trainable params: 324 (1.27 KB)\n",
      "Non-trainable params: 0 (0.00 Byte)\n",
      "_________________________________________________________________\n"
     ]
    }
   ],
   "source": [
    "#show model summary\n",
    "model.summary()"
   ]
  },
  {
   "cell_type": "code",
   "execution_count": 37,
   "metadata": {},
   "outputs": [],
   "source": [
    "#generate random values for sample input:\n",
    "age=r.randint(27,59)\n",
    "sleep_duration=round(r.uniform(5.8,8.5),1)\n",
    "quality_of_sleep=r.randint(4,9)\n",
    "physical_activity_level=r.randint(30,90)\n",
    "stress_level=r.randint(3,8)\n",
    "heart_rate=r.randint(65,86)\n",
    "daily_steps=r.randint(3000,10000)\n",
    "systolic_blood_pressure=r.randint(115,142)\n",
    "diastolic_blood_pressure=r.randint(75,95)\n",
    "career=r.randint(1,8)\n",
    "bmi=r.randint(1,2)\n",
    "gen=r.randint(1,2)"
   ]
  },
  {
   "cell_type": "code",
   "execution_count": 42,
   "metadata": {},
   "outputs": [],
   "source": [
    "#generate random input:\n",
    "#empty dictionary:\n",
    "input_dict={}\n",
    "#random numerical values:\n",
    "for key in num_keys:\n",
    "    input_dict[key]=eval(key)\n",
    "#random career category:\n",
    "for i in range(len(career_keys)):\n",
    "    if i==(career-1):\n",
    "        input_dict[career_keys[i]]=1\n",
    "    else: input_dict[career_keys[i]]=0\n",
    "#random bmi:\n",
    "for i in range(len(bmi_keys)):\n",
    "    if i==(bmi-1):\n",
    "        input_dict[bmi_keys[i]]=1\n",
    "    else: input_dict[bmi_keys[i]]=0\n",
    "#random gender:\n",
    "for i in range(len(gen_keys)):\n",
    "    if i==(gen-1):\n",
    "        input_dict[gen_keys[i]]=1\n",
    "    else: input_dict[gen_keys[i]]=0"
   ]
  },
  {
   "cell_type": "code",
   "execution_count": 43,
   "metadata": {},
   "outputs": [
    {
     "data": {
      "text/plain": [
       "{'age': 28,\n",
       " 'sleep_duration': 7.3,\n",
       " 'quality_of_sleep': 5,\n",
       " 'physical_activity_level': 45,\n",
       " 'stress_level': 6,\n",
       " 'heart_rate': 80,\n",
       " 'daily_steps': 4722,\n",
       " 'systolic_blood_pressure': 124,\n",
       " 'diastolic_blood_pressure': 82,\n",
       " 'Accountant': 0,\n",
       " 'Doctor': 0,\n",
       " 'Engineer': 0,\n",
       " 'Lawyer': 0,\n",
       " 'Nurse': 0,\n",
       " 'Other': 0,\n",
       " 'Salesperson': 1,\n",
       " 'Teacher': 0,\n",
       " 'Normal Weight': 1,\n",
       " 'Overweight': 0,\n",
       " 'Female': 1,\n",
       " 'Male': 0}"
      ]
     },
     "execution_count": 43,
     "metadata": {},
     "output_type": "execute_result"
    }
   ],
   "source": [
    "input_dict"
   ]
  },
  {
   "cell_type": "code",
   "execution_count": 46,
   "metadata": {},
   "outputs": [
    {
     "ename": "ValueError",
     "evalue": "Failed to find data adapter that can handle input: (<class 'dict'> containing {\"<class 'str'>\"} keys and {\"<class 'int'>\", \"<class 'float'>\"} values), <class 'NoneType'>",
     "output_type": "error",
     "traceback": [
      "\u001b[1;31m---------------------------------------------------------------------------\u001b[0m",
      "\u001b[1;31mValueError\u001b[0m                                Traceback (most recent call last)",
      "Cell \u001b[1;32mIn[46], line 1\u001b[0m\n\u001b[1;32m----> 1\u001b[0m model\u001b[39m.\u001b[39;49mpredict(input_dict)\n",
      "File \u001b[1;32m~\\AppData\\Roaming\\Python\\Python39\\site-packages\\keras\\src\\utils\\traceback_utils.py:70\u001b[0m, in \u001b[0;36mfilter_traceback.<locals>.error_handler\u001b[1;34m(*args, **kwargs)\u001b[0m\n\u001b[0;32m     67\u001b[0m     filtered_tb \u001b[39m=\u001b[39m _process_traceback_frames(e\u001b[39m.\u001b[39m__traceback__)\n\u001b[0;32m     68\u001b[0m     \u001b[39m# To get the full stack trace, call:\u001b[39;00m\n\u001b[0;32m     69\u001b[0m     \u001b[39m# `tf.debugging.disable_traceback_filtering()`\u001b[39;00m\n\u001b[1;32m---> 70\u001b[0m     \u001b[39mraise\u001b[39;00m e\u001b[39m.\u001b[39mwith_traceback(filtered_tb) \u001b[39mfrom\u001b[39;00m \u001b[39mNone\u001b[39;00m\n\u001b[0;32m     71\u001b[0m \u001b[39mfinally\u001b[39;00m:\n\u001b[0;32m     72\u001b[0m     \u001b[39mdel\u001b[39;00m filtered_tb\n",
      "File \u001b[1;32m~\\AppData\\Roaming\\Python\\Python39\\site-packages\\keras\\src\\engine\\data_adapter.py:1105\u001b[0m, in \u001b[0;36mselect_data_adapter\u001b[1;34m(x, y)\u001b[0m\n\u001b[0;32m   1102\u001b[0m adapter_cls \u001b[39m=\u001b[39m [\u001b[39mcls\u001b[39m \u001b[39mfor\u001b[39;00m \u001b[39mcls\u001b[39m \u001b[39min\u001b[39;00m ALL_ADAPTER_CLS \u001b[39mif\u001b[39;00m \u001b[39mcls\u001b[39m\u001b[39m.\u001b[39mcan_handle(x, y)]\n\u001b[0;32m   1103\u001b[0m \u001b[39mif\u001b[39;00m \u001b[39mnot\u001b[39;00m adapter_cls:\n\u001b[0;32m   1104\u001b[0m     \u001b[39m# TODO(scottzhu): This should be a less implementation-specific error.\u001b[39;00m\n\u001b[1;32m-> 1105\u001b[0m     \u001b[39mraise\u001b[39;00m \u001b[39mValueError\u001b[39;00m(\n\u001b[0;32m   1106\u001b[0m         \u001b[39m\"\u001b[39m\u001b[39mFailed to find data adapter that can handle input: \u001b[39m\u001b[39m{}\u001b[39;00m\u001b[39m, \u001b[39m\u001b[39m{}\u001b[39;00m\u001b[39m\"\u001b[39m\u001b[39m.\u001b[39mformat(\n\u001b[0;32m   1107\u001b[0m             _type_name(x), _type_name(y)\n\u001b[0;32m   1108\u001b[0m         )\n\u001b[0;32m   1109\u001b[0m     )\n\u001b[0;32m   1110\u001b[0m \u001b[39melif\u001b[39;00m \u001b[39mlen\u001b[39m(adapter_cls) \u001b[39m>\u001b[39m \u001b[39m1\u001b[39m:\n\u001b[0;32m   1111\u001b[0m     \u001b[39mraise\u001b[39;00m \u001b[39mRuntimeError\u001b[39;00m(\n\u001b[0;32m   1112\u001b[0m         \u001b[39m\"\u001b[39m\u001b[39mData adapters should be mutually exclusive for \u001b[39m\u001b[39m\"\u001b[39m\n\u001b[0;32m   1113\u001b[0m         \u001b[39m\"\u001b[39m\u001b[39mhandling inputs. Found multiple adapters \u001b[39m\u001b[39m{}\u001b[39;00m\u001b[39m to handle \u001b[39m\u001b[39m\"\u001b[39m\n\u001b[0;32m   1114\u001b[0m         \u001b[39m\"\u001b[39m\u001b[39minput: \u001b[39m\u001b[39m{}\u001b[39;00m\u001b[39m, \u001b[39m\u001b[39m{}\u001b[39;00m\u001b[39m\"\u001b[39m\u001b[39m.\u001b[39mformat(adapter_cls, _type_name(x), _type_name(y))\n\u001b[0;32m   1115\u001b[0m     )\n",
      "\u001b[1;31mValueError\u001b[0m: Failed to find data adapter that can handle input: (<class 'dict'> containing {\"<class 'str'>\"} keys and {\"<class 'int'>\", \"<class 'float'>\"} values), <class 'NoneType'>"
     ]
    }
   ],
   "source": [
    "model.predict(input_dict)"
   ]
  }
 ],
 "metadata": {
  "kernelspec": {
   "display_name": "base",
   "language": "python",
   "name": "python3"
  },
  "language_info": {
   "codemirror_mode": {
    "name": "ipython",
    "version": 3
   },
   "file_extension": ".py",
   "mimetype": "text/x-python",
   "name": "python",
   "nbconvert_exporter": "python",
   "pygments_lexer": "ipython3",
   "version": "3.9.16"
  },
  "orig_nbformat": 4
 },
 "nbformat": 4,
 "nbformat_minor": 2
}
