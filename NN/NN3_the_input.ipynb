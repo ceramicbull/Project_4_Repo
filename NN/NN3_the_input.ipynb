{
 "cells": [
  {
   "cell_type": "code",
   "execution_count": 1,
   "metadata": {},
   "outputs": [],
   "source": [
    "#dependencies\n",
    "import tensorflow as tf\n",
    "import random as r\n",
    "import pandas as pd\n",
    "import numpy as np\n",
    "from sklearn.preprocessing import StandardScaler\n"
   ]
  },
  {
   "cell_type": "code",
   "execution_count": 2,
   "metadata": {},
   "outputs": [],
   "source": [
    "#lists of features to recreate input variables\n",
    "#correct order of keys:\n",
    "keys=['age', 'sleep_duration', 'quality_of_sleep', 'physical_activity_level',\n",
    "       'stress_level', 'heart_rate', 'daily_steps', 'systolic_blood_pressure',\n",
    "       'diastolic_blood_pressure', 'Accountant', 'Doctor', 'Engineer',\n",
    "       'Lawyer', 'Nurse', 'Other', 'Salesperson', 'Teacher', 'Normal Weight',\n",
    "       'Overweight', 'Female', 'Male']\n",
    "#keys of numerical features\n",
    "num_keys=['age', 'sleep_duration', 'quality_of_sleep', 'physical_activity_level',\n",
    "       'stress_level', 'heart_rate', 'daily_steps', 'systolic_blood_pressure',\n",
    "       'diastolic_blood_pressure']\n",
    "#cat_keys=['career','bmi','gen']\n",
    "#keys for career category\n",
    "career_keys=['Accountant', 'Doctor', 'Engineer',\n",
    "       'Lawyer', 'Nurse', 'Other', 'Salesperson', 'Teacher']\n",
    "#keys for BMI category\n",
    "bmi_keys=['Normal Weight',\n",
    "       'Overweight']\n",
    "#keys for gender category\n",
    "gen_keys=['Female', 'Male']"
   ]
  },
  {
   "cell_type": "code",
   "execution_count": 3,
   "metadata": {},
   "outputs": [],
   "source": [
    "#load optimized model\n",
    "model=tf.keras.models.load_model(\"sleep_model_opt.hdf5\")"
   ]
  },
  {
   "cell_type": "code",
   "execution_count": 4,
   "metadata": {},
   "outputs": [
    {
     "name": "stdout",
     "output_type": "stream",
     "text": [
      "Model: \"sequential\"\n",
      "_________________________________________________________________\n",
      " Layer (type)                Output Shape              Param #   \n",
      "=================================================================\n",
      " dense (Dense)               (None, 9)                 198       \n",
      "                                                                 \n",
      " dense_1 (Dense)             (None, 5)                 50        \n",
      "                                                                 \n",
      " dense_2 (Dense)             (None, 9)                 54        \n",
      "                                                                 \n",
      " dense_3 (Dense)             (None, 1)                 10        \n",
      "                                                                 \n",
      " dense_4 (Dense)             (None, 1)                 2         \n",
      "                                                                 \n",
      " dense_5 (Dense)             (None, 3)                 6         \n",
      "                                                                 \n",
      " dense_6 (Dense)             (None, 1)                 4         \n",
      "                                                                 \n",
      "=================================================================\n",
      "Total params: 324 (1.27 KB)\n",
      "Trainable params: 324 (1.27 KB)\n",
      "Non-trainable params: 0 (0.00 Byte)\n",
      "_________________________________________________________________\n"
     ]
    }
   ],
   "source": [
    "#show model summary\n",
    "model.summary()"
   ]
  },
  {
   "cell_type": "code",
   "execution_count": 5,
   "metadata": {},
   "outputs": [],
   "source": [
    "#generate random values for sample input:\n",
    "age=r.randint(27,59)\n",
    "sleep_duration=round(r.uniform(5.8,8.5),1)\n",
    "quality_of_sleep=r.randint(4,9)\n",
    "physical_activity_level=r.randint(30,90)\n",
    "stress_level=r.randint(3,8)\n",
    "heart_rate=r.randint(65,86)\n",
    "daily_steps=r.randint(3000,10000)\n",
    "systolic_blood_pressure=r.randint(115,142)\n",
    "diastolic_blood_pressure=r.randint(75,95)\n",
    "career=r.randint(1,8)\n",
    "bmi=r.randint(1,2)\n",
    "gen=r.randint(1,2)"
   ]
  },
  {
   "cell_type": "code",
   "execution_count": 6,
   "metadata": {},
   "outputs": [],
   "source": [
    "#generate random input:\n",
    "#empty dictionary:\n",
    "input_dict={}\n",
    "#random numerical values:\n",
    "for key in num_keys:\n",
    "    input_dict[key]=eval(key)\n",
    "#random career category:\n",
    "for i in range(len(career_keys)):\n",
    "    if i==(career-1):\n",
    "        input_dict[career_keys[i]]=1\n",
    "    else: input_dict[career_keys[i]]=0\n",
    "#random bmi:\n",
    "for i in range(len(bmi_keys)):\n",
    "    if i==(bmi-1):\n",
    "        input_dict[bmi_keys[i]]=1\n",
    "    else: input_dict[bmi_keys[i]]=0\n",
    "#random gender:\n",
    "for i in range(len(gen_keys)):\n",
    "    if i==(gen-1):\n",
    "        input_dict[gen_keys[i]]=1\n",
    "    else: input_dict[gen_keys[i]]=0"
   ]
  },
  {
   "cell_type": "code",
   "execution_count": 7,
   "metadata": {},
   "outputs": [
    {
     "data": {
      "text/html": [
       "<div>\n",
       "<style scoped>\n",
       "    .dataframe tbody tr th:only-of-type {\n",
       "        vertical-align: middle;\n",
       "    }\n",
       "\n",
       "    .dataframe tbody tr th {\n",
       "        vertical-align: top;\n",
       "    }\n",
       "\n",
       "    .dataframe thead th {\n",
       "        text-align: right;\n",
       "    }\n",
       "</style>\n",
       "<table border=\"1\" class=\"dataframe\">\n",
       "  <thead>\n",
       "    <tr style=\"text-align: right;\">\n",
       "      <th></th>\n",
       "      <th>age</th>\n",
       "      <th>sleep_duration</th>\n",
       "      <th>quality_of_sleep</th>\n",
       "      <th>physical_activity_level</th>\n",
       "      <th>stress_level</th>\n",
       "      <th>heart_rate</th>\n",
       "      <th>daily_steps</th>\n",
       "      <th>systolic_blood_pressure</th>\n",
       "      <th>diastolic_blood_pressure</th>\n",
       "      <th>Accountant</th>\n",
       "      <th>...</th>\n",
       "      <th>Engineer</th>\n",
       "      <th>Lawyer</th>\n",
       "      <th>Nurse</th>\n",
       "      <th>Other</th>\n",
       "      <th>Salesperson</th>\n",
       "      <th>Teacher</th>\n",
       "      <th>Normal Weight</th>\n",
       "      <th>Overweight</th>\n",
       "      <th>Female</th>\n",
       "      <th>Male</th>\n",
       "    </tr>\n",
       "  </thead>\n",
       "  <tbody>\n",
       "    <tr>\n",
       "      <th>0</th>\n",
       "      <td>53</td>\n",
       "      <td>6.0</td>\n",
       "      <td>8</td>\n",
       "      <td>31</td>\n",
       "      <td>5</td>\n",
       "      <td>86</td>\n",
       "      <td>3088</td>\n",
       "      <td>122</td>\n",
       "      <td>78</td>\n",
       "      <td>0</td>\n",
       "      <td>...</td>\n",
       "      <td>0</td>\n",
       "      <td>0</td>\n",
       "      <td>1</td>\n",
       "      <td>0</td>\n",
       "      <td>0</td>\n",
       "      <td>0</td>\n",
       "      <td>0</td>\n",
       "      <td>1</td>\n",
       "      <td>1</td>\n",
       "      <td>0</td>\n",
       "    </tr>\n",
       "  </tbody>\n",
       "</table>\n",
       "<p>1 rows × 21 columns</p>\n",
       "</div>"
      ],
      "text/plain": [
       "   age  sleep_duration  quality_of_sleep  physical_activity_level  \\\n",
       "0   53             6.0                 8                       31   \n",
       "\n",
       "   stress_level  heart_rate  daily_steps  systolic_blood_pressure  \\\n",
       "0             5          86         3088                      122   \n",
       "\n",
       "   diastolic_blood_pressure  Accountant  ...  Engineer  Lawyer  Nurse  Other  \\\n",
       "0                        78           0  ...         0       0      1      0   \n",
       "\n",
       "   Salesperson  Teacher  Normal Weight  Overweight  Female  Male  \n",
       "0            0        0              0           1       1     0  \n",
       "\n",
       "[1 rows x 21 columns]"
      ]
     },
     "execution_count": 7,
     "metadata": {},
     "output_type": "execute_result"
    }
   ],
   "source": [
    "#convert dictionary to pandas DataFrame:\n",
    "input_df=pd.DataFrame(input_dict,index=[0])\n",
    "#ensure DataFrame is in the correct order\n",
    "input_df=input_df[keys]\n",
    "#view Dataframe:\n",
    "input_df"
   ]
  },
  {
   "cell_type": "code",
   "execution_count": 8,
   "metadata": {},
   "outputs": [],
   "source": [
    "#input_np=input_df.iloc[0].to_numpy()\n"
   ]
  },
  {
   "cell_type": "code",
   "execution_count": 9,
   "metadata": {},
   "outputs": [],
   "source": [
    "#model.call(input_np, training=False)"
   ]
  },
  {
   "cell_type": "code",
   "execution_count": 10,
   "metadata": {},
   "outputs": [],
   "source": [
    "scaler = StandardScaler()\n",
    "input_scaler = scaler.fit(input_df)\n",
    "input_transformed=input_scaler.transform(input_df)\n"
   ]
  },
  {
   "cell_type": "code",
   "execution_count": 11,
   "metadata": {},
   "outputs": [
    {
     "name": "stdout",
     "output_type": "stream",
     "text": [
      "[[0.43034032]]\n"
     ]
    }
   ],
   "source": [
    "prediction=model.predict_on_batch(input_transformed)\n",
    "print(prediction)"
   ]
  },
  {
   "cell_type": "code",
   "execution_count": 12,
   "metadata": {},
   "outputs": [
    {
     "name": "stdout",
     "output_type": "stream",
     "text": [
      "[[0.43034032]]\n"
     ]
    }
   ],
   "source": [
    "prediction=model.predict(input_transformed, verbose=0)\n",
    "print(prediction)"
   ]
  },
  {
   "cell_type": "code",
   "execution_count": 13,
   "metadata": {},
   "outputs": [
    {
     "ename": "AttributeError",
     "evalue": "'Sequential' object has no attribute 'predict_classes'",
     "output_type": "error",
     "traceback": [
      "\u001b[1;31m---------------------------------------------------------------------------\u001b[0m",
      "\u001b[1;31mAttributeError\u001b[0m                            Traceback (most recent call last)",
      "Cell \u001b[1;32mIn[13], line 1\u001b[0m\n\u001b[1;32m----> 1\u001b[0m model\u001b[39m.\u001b[39;49mpredict_classes(input_transformed)\n",
      "\u001b[1;31mAttributeError\u001b[0m: 'Sequential' object has no attribute 'predict_classes'"
     ]
    }
   ],
   "source": [
    "model.predict_classes(input_transformed)"
   ]
  }
 ],
 "metadata": {
  "kernelspec": {
   "display_name": "base",
   "language": "python",
   "name": "python3"
  },
  "language_info": {
   "codemirror_mode": {
    "name": "ipython",
    "version": 3
   },
   "file_extension": ".py",
   "mimetype": "text/x-python",
   "name": "python",
   "nbconvert_exporter": "python",
   "pygments_lexer": "ipython3",
   "version": "3.9.16"
  },
  "orig_nbformat": 4
 },
 "nbformat": 4,
 "nbformat_minor": 2
}
