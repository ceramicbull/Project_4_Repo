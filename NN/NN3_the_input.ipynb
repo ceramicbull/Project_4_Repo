{
 "cells": [
  {
   "cell_type": "code",
   "execution_count": 7,
   "metadata": {},
   "outputs": [],
   "source": [
    "import tensorflow as tf\n",
    "import random as r"
   ]
  },
  {
   "cell_type": "code",
   "execution_count": 12,
   "metadata": {},
   "outputs": [],
   "source": [
    "num_keys=['age', 'sleep_duration', 'quality_of_sleep', 'physical_activity_level',\n",
    "       'stress_level', 'heart_rate', 'daily_steps', 'systolic_blood_pressure',\n",
    "       'diastolic_blood_pressure']\n",
    "cat_keys=['career','bmi','gen']\n",
    "career_keys=['Accountant', 'Doctor', 'Engineer',\n",
    "       'Lawyer', 'Nurse', 'Other', 'Salesperson', 'Teacher']\n",
    "bmi_keys=['Normal Weight',\n",
    "       'Overweight']\n",
    "gen_keys=['Female', 'Male']"
   ]
  },
  {
   "cell_type": "code",
   "execution_count": 3,
   "metadata": {},
   "outputs": [],
   "source": [
    "model=tf.keras.models.load_model(\"sleep_model_opt.hdf5\")"
   ]
  },
  {
   "cell_type": "code",
   "execution_count": 5,
   "metadata": {},
   "outputs": [
    {
     "name": "stdout",
     "output_type": "stream",
     "text": [
      "Model: \"sequential\"\n",
      "_________________________________________________________________\n",
      " Layer (type)                Output Shape              Param #   \n",
      "=================================================================\n",
      " dense (Dense)               (None, 9)                 198       \n",
      "                                                                 \n",
      " dense_1 (Dense)             (None, 1)                 10        \n",
      "                                                                 \n",
      " dense_2 (Dense)             (None, 3)                 6         \n",
      "                                                                 \n",
      " dense_3 (Dense)             (None, 3)                 12        \n",
      "                                                                 \n",
      " dense_4 (Dense)             (None, 9)                 36        \n",
      "                                                                 \n",
      " dense_5 (Dense)             (None, 1)                 10        \n",
      "                                                                 \n",
      "=================================================================\n",
      "Total params: 272 (1.06 KB)\n",
      "Trainable params: 272 (1.06 KB)\n",
      "Non-trainable params: 0 (0.00 Byte)\n",
      "_________________________________________________________________\n"
     ]
    }
   ],
   "source": [
    "model.summary()"
   ]
  },
  {
   "cell_type": "code",
   "execution_count": 28,
   "metadata": {},
   "outputs": [],
   "source": [
    "#generate random values for sample input:\n",
    "age=r.randint(27,59)\n",
    "sleep_duration=round(r.uniform(5.8,8.5),1)\n",
    "quality_of_sleep=r.randint(4,9)\n",
    "physical_activity_level=r.randint(30,90)\n",
    "stress_level=r.randint(3,8)\n",
    "heart_rate=r.randint(65,86)\n",
    "daily_steps=r.randint(3000,10000)\n",
    "systolic_blood_pressure=r.randint(115,142)\n",
    "diastolic_blood_pressure=r.randint(75,95)\n",
    "career=r.randint(1,8)\n",
    "bmi=r.randint(1,2)\n",
    "gen=r.randint(1,2)"
   ]
  },
  {
   "cell_type": "code",
   "execution_count": 29,
   "metadata": {},
   "outputs": [
    {
     "data": {
      "text/plain": [
       "58"
      ]
     },
     "execution_count": 29,
     "metadata": {},
     "output_type": "execute_result"
    }
   ],
   "source": [
    "age"
   ]
  },
  {
   "cell_type": "code",
   "execution_count": 30,
   "metadata": {},
   "outputs": [],
   "source": [
    "input_dict={}\n",
    "for key in num_keys:\n",
    "    input_dict[key]=eval(key)\n",
    "career_list="
   ]
  },
  {
   "cell_type": "code",
   "execution_count": 31,
   "metadata": {},
   "outputs": [
    {
     "data": {
      "text/plain": [
       "{'age': 58,\n",
       " 'sleep_duration': 7.6,\n",
       " 'quality_of_sleep': 5,\n",
       " 'physical_activity_level': 44,\n",
       " 'stress_level': 3,\n",
       " 'heart_rate': 84,\n",
       " 'daily_steps': 4305,\n",
       " 'systolic_blood_pressure': 115,\n",
       " 'diastolic_blood_pressure': 95}"
      ]
     },
     "execution_count": 31,
     "metadata": {},
     "output_type": "execute_result"
    }
   ],
   "source": [
    "input_dict"
   ]
  }
 ],
 "metadata": {
  "kernelspec": {
   "display_name": "base",
   "language": "python",
   "name": "python3"
  },
  "language_info": {
   "codemirror_mode": {
    "name": "ipython",
    "version": 3
   },
   "file_extension": ".py",
   "mimetype": "text/x-python",
   "name": "python",
   "nbconvert_exporter": "python",
   "pygments_lexer": "ipython3",
   "version": "3.9.16"
  },
  "orig_nbformat": 4
 },
 "nbformat": 4,
 "nbformat_minor": 2
}
